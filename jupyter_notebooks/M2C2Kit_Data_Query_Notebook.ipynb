{
  "cells": [
    {
      "cell_type": "markdown",
      "metadata": {},
      "source": [
        "# ABOUT THIS NOTEBOOK\n",
        "\n",
        "This is a Jupyter notebook designed to simplify data extraction and data deduplication of M2C2kit data on the production servers.\n",
        "\n",
        "Below is code to (1) download, (2) deduplicate and (3) save the data as a CSV.\n",
        "\n",
        "Before you can begin using this Jupyter notebook, you will have to submit a username and create a password using the [authorization guide](https://github.com/m2c2-project/m2c2kit-integration-guides/blob/main/docs/authorization_guide.md) and submit an [Airtable form](https://airtable.com/app0JQhjqc5VNZMpZ/shr2FrUEAeaZV7RzF) to request data access. Our team would also need to communicate that you have been entered into the system before proceeding here. If this has been completed, please proceed. Your username, password, and study_id will be used in the designated field within this Jupyter notebook.\n",
        "\n",
        "## How is Data Saved by M2C2Kit?\n",
        "\n",
        "Data from assessments are saved every trial. As a result, you can expect duplication when you query the raw data from our database. "
      ]
    },
    {
      "cell_type": "markdown",
      "metadata": {},
      "source": [
        "## Before You Start Your Study\n",
        "\n",
        "Before beginning your study, please ensure that the 'user_uid' values you are receiving the dataframes above match what you'd expect from either Qualtrics (whatever criteria used) or Metricwire (24 characters, alphanumeric)."
      ]
    },
    {
      "cell_type": "markdown",
      "metadata": {},
      "source": [
        "# Getting Started\n",
        "\n",
        "To get started with this Jupyter notebook, you will need to either:\n",
        "\n",
        "- Install [Anaconda](https://www.anaconda.com/)\n",
        "- Install [Jupyter Lab](https://jupyter.org/install)\n",
        "- Install [Visual Studio Code with the Jupyter Notebook Extension](https://code.visualstudio.com/)\n",
        "\n",
        "Once you've configured your frameowrk of choice, you will then need to install the following Python libraries (`pandas`, `requests`) by running the cell below.\n",
        "\n",
        "Thereafter, navigate to the cell below the heading `Configure your data query` and modify the username to the one you were provided by the M2C2 Team. You will be prompted for your password each time you login."
      ]
    },
    {
      "cell_type": "code",
      "execution_count": 1,
      "metadata": {},
      "outputs": [
        {
          "name": "stdout",
          "output_type": "stream",
          "text": [
            "Requirement already satisfied: requests in /opt/homebrew/lib/python3.11/site-packages (2.31.0)\n",
            "Requirement already satisfied: charset-normalizer<4,>=2 in /opt/homebrew/lib/python3.11/site-packages (from requests) (3.2.0)\n",
            "Requirement already satisfied: idna<4,>=2.5 in /opt/homebrew/lib/python3.11/site-packages (from requests) (3.4)\n",
            "Requirement already satisfied: urllib3<3,>=1.21.1 in /opt/homebrew/lib/python3.11/site-packages (from requests) (1.26.18)\n",
            "Requirement already satisfied: certifi>=2017.4.17 in /opt/homebrew/lib/python3.11/site-packages (from requests) (2023.7.22)\n",
            "\n",
            "\u001b[1m[\u001b[0m\u001b[34;49mnotice\u001b[0m\u001b[1;39;49m]\u001b[0m\u001b[39;49m A new release of pip is available: \u001b[0m\u001b[31;49m23.3.1\u001b[0m\u001b[39;49m -> \u001b[0m\u001b[32;49m24.0\u001b[0m\n",
            "\u001b[1m[\u001b[0m\u001b[34;49mnotice\u001b[0m\u001b[1;39;49m]\u001b[0m\u001b[39;49m To update, run: \u001b[0m\u001b[32;49mpython3.11 -m pip install --upgrade pip\u001b[0m\n",
            "Requirement already satisfied: pandas in /opt/homebrew/lib/python3.11/site-packages (2.0.3)\n",
            "Requirement already satisfied: python-dateutil>=2.8.2 in /opt/homebrew/lib/python3.11/site-packages (from pandas) (2.8.2)\n",
            "Requirement already satisfied: pytz>=2020.1 in /opt/homebrew/lib/python3.11/site-packages (from pandas) (2022.2.1)\n",
            "Requirement already satisfied: tzdata>=2022.1 in /opt/homebrew/lib/python3.11/site-packages (from pandas) (2023.3)\n",
            "Requirement already satisfied: numpy>=1.21.0 in /opt/homebrew/lib/python3.11/site-packages (from pandas) (1.25.2)\n",
            "Requirement already satisfied: six>=1.5 in /opt/homebrew/lib/python3.11/site-packages (from python-dateutil>=2.8.2->pandas) (1.16.0)\n",
            "\n",
            "\u001b[1m[\u001b[0m\u001b[34;49mnotice\u001b[0m\u001b[1;39;49m]\u001b[0m\u001b[39;49m A new release of pip is available: \u001b[0m\u001b[31;49m23.3.1\u001b[0m\u001b[39;49m -> \u001b[0m\u001b[32;49m24.0\u001b[0m\n",
            "\u001b[1m[\u001b[0m\u001b[34;49mnotice\u001b[0m\u001b[1;39;49m]\u001b[0m\u001b[39;49m To update, run: \u001b[0m\u001b[32;49mpython3.11 -m pip install --upgrade pip\u001b[0m\n"
          ]
        }
      ],
      "source": [
        "! pip install requests\n",
        "! pip install pandas"
      ]
    },
    {
      "cell_type": "markdown",
      "metadata": {},
      "source": [
        "## Load libraries and custom functions"
      ]
    },
    {
      "cell_type": "markdown",
      "metadata": {},
      "source": [
        "### Note: DO NOT modify any of the functions below"
      ]
    },
    {
      "cell_type": "code",
      "execution_count": 2,
      "metadata": {
        "colab": {
          "base_uri": "https://localhost:8080/"
        },
        "id": "jH1QPHdxqcgz",
        "outputId": "7073efad-35e3-4ad5-d618-6ab3a3ab6aed"
      },
      "outputs": [],
      "source": [
        "import urllib.parse\n",
        "import datetime\n",
        "import requests\n",
        "import pandas as pd\n",
        "from getpass import getpass"
      ]
    },
    {
      "cell_type": "code",
      "execution_count": 3,
      "metadata": {},
      "outputs": [],
      "source": [
        "def get_filename_strings(ts_fn):\n",
        "    return {\n",
        "        \"metadata_unique_session_ids\": f\"m2c2kit_metadata_unique-session-ids_{ts_fn}.csv\",\n",
        "        \"metadata_unique_participant_ids\": f\"m2c2kit_metadata_unique-participant-ids_{ts_fn}.csv\",\n",
        "    }"
      ]
    },
    {
      "cell_type": "code",
      "execution_count": 1,
      "metadata": {},
      "outputs": [],
      "source": [
        "def get_m2c2kit_access_token(username=None, password=None):\n",
        "\n",
        "    if username is None or password is None:\n",
        "        # specify parameters for M2C2kit backend\n",
        "        username = input('Enter username for M2C2kit backend...') # you will be prompted for a username\n",
        "        password = getpass('Enter password for M2C2kit backend...') # you will be prompted for a password\n",
        "\n",
        "    # specify login endpoint URL\n",
        "    login_url = \"https://prod.m2c2kit.com/auth/token\"\n",
        "    payload = f\"=grant_type%3D&=scope%3D&=client_id%3D&=client_secret%3D&username={username}&password={password}\"\n",
        "    headers = {\n",
        "        \"accept\": \"application/json\",\n",
        "        \"Content-Type\": \"application/x-www-form-urlencoded\"\n",
        "    }\n",
        "\n",
        "    # attempt login\n",
        "    login_response = requests.request(\"POST\", login_url, data=payload, headers=headers)\n",
        "    access_token = login_response.json().get(\"access_token\")\n",
        "\n",
        "\n",
        "    # specify filename from current run time for filenames\n",
        "    ts_fn = datetime.datetime.now().strftime(\"%Y%m%d_%H%M%S\")\n",
        "\n",
        "    # query range of data for a given study\n",
        "    print(\"Token granted at: \", ts_fn)\n",
        "\n",
        "    return access_token, ts_fn"
      ]
    },
    {
      "cell_type": "code",
      "execution_count": 5,
      "metadata": {},
      "outputs": [],
      "source": [
        "def get_m2c2kit_trial_level_data(access_token=None, study_id=None, start_date=None, end_date=None, activity_name=None, skip=0):\n",
        "\n",
        "    # check if required fields present\n",
        "    if access_token is None:\n",
        "        raise ValueError(\"access_token is required\")\n",
        "    if study_id is None:\n",
        "        raise ValueError(\"study_id is required\")\n",
        "    if start_date is None:\n",
        "        raise ValueError(\"start_date is required\")\n",
        "    if end_date is None:\n",
        "        raise ValueError(\"end_date is required\")\n",
        "    if activity_name is None:\n",
        "        raise ValueError(\"activity_name is required\")\n",
        "\n",
        "    # specify query endpoint URL\n",
        "    query_url = \"https://prod.m2c2kit.com/query/\"\n",
        "\n",
        "    # specify query parameters ----\n",
        "    querystring = {\"fields\":\"study_uid,uid,session_uid,activity_name,event_type,content,metadata\",\n",
        "                \"activity_name\":activity_name,\n",
        "                \"format\":\"json\",\n",
        "                \"study_uid\":study_id,\n",
        "                \"start_date\":start_date,\n",
        "                \"end_date\":end_date,\n",
        "                \"skip\":skip,\n",
        "                \"limit\":\"1000\"}\n",
        "\n",
        "    payload = \"\"\n",
        "    headers = {\n",
        "    \"accept\": \"application/json\",\n",
        "    \"Authorization\": f\"Bearer {access_token}\"\n",
        "    }\n",
        "\n",
        "    # TODO: check for total and run with new limit and skip if reached limit ----\n",
        "    data_response = requests.request(\"GET\", query_url, data=payload, headers=headers, params=querystring)\n",
        "    data_json = data_response.json()\n",
        "    data_records = data_json.get(\"results\")\n",
        "    data_total = data_json.get(\"total\")\n",
        "    data_limit = data_json.get(\"limit\")\n",
        "    data_df = pd.DataFrame(data_records)\n",
        "\n",
        "    # iterate over the dataset to get all trials ----\n",
        "    all_trials = []\n",
        "    for index, row in data_df.iterrows():\n",
        "        json_data = row['content'].get(\"trials\", [])\n",
        "        all_trials.extend(json_data)\n",
        "\n",
        "    # convert all trials to dataframe ----\n",
        "    df_all = pd.DataFrame(all_trials)\n",
        "    return df_all, data_total, data_limit"
      ]
    },
    {
      "cell_type": "code",
      "execution_count": 6,
      "metadata": {},
      "outputs": [],
      "source": [
        "def get_m2c2kit_metadata(access_token=None, study_id=None, resource=\"session-counts\"):\n",
        "\n",
        "    # check if required fields present\n",
        "    if access_token is None:\n",
        "        raise ValueError(\"access_token is required\")\n",
        "    if study_id is None:\n",
        "        raise ValueError(\"study_id is required\")\n",
        "    \n",
        "    # specify query endpoint URL\n",
        "    query_url = f\"https://prod.m2c2kit.com/metadata/{resource}\"\n",
        "\n",
        "    # specify query parameters ----\n",
        "    querystring = {\"study_uid\":study_id}\n",
        "\n",
        "    payload = \"\"\n",
        "    headers = {\n",
        "    \"accept\": \"application/json\",\n",
        "    \"Authorization\": f\"Bearer {access_token}\"\n",
        "    }\n",
        "\n",
        "    # TODO: check for total and run with new limit and skip if reached limit ----\n",
        "    data_response = requests.request(\"GET\", query_url, data=payload, headers=headers, params=querystring)\n",
        "    data_json = data_response.json()\n",
        "    data_df = pd.DataFrame(data_json)\n",
        "\n",
        "    return data_df, data_json"
      ]
    },
    {
      "cell_type": "code",
      "execution_count": 7,
      "metadata": {},
      "outputs": [],
      "source": [
        "def summary_symbol_search(x, trials_expected=20):\n",
        "    d = {}\n",
        "    d[\"flag_is_invalid_n_trials\"] = x[\"session_uuid\"].count() != trials_expected\n",
        "    d[\"n_trials\"] = x[\"session_uuid\"].count()\n",
        "    d[\"n_trials_lure\"] = (x[\"trial_type\"] == \"lure\").sum()\n",
        "    d[\"n_trials_responsetime_lt250ms\"] = (x[\"response_time_duration_ms\"] < 250).sum()\n",
        "    d[\"n_trials_responsetime_gt10000ms\"] = (\n",
        "        x[\"response_time_duration_ms\"] > 10000\n",
        "    ).sum()\n",
        "    d[\"n_correct_trials\"] = (\n",
        "        x[\"user_response_index\"] == x[\"correct_response_index\"]\n",
        "    ).sum()\n",
        "    d[\"n_incorrect_trials\"] = (\n",
        "        x[\"user_response_index\"] != x[\"correct_response_index\"]\n",
        "    ).sum()\n",
        "    d[\"mean_response_time_overall\"] = x[\"response_time_duration_ms\"].mean()\n",
        "    d[\"mean_response_time_correct\"] = x.loc[\n",
        "        (x[\"user_response_index\"] == x[\"correct_response_index\"]),\n",
        "        \"response_time_duration_ms\",\n",
        "    ].mean()\n",
        "    d[\"mean_response_time_incorrect\"] = x.loc[\n",
        "        (x[\"user_response_index\"] != x[\"correct_response_index\"]),\n",
        "        \"response_time_duration_ms\",\n",
        "    ].mean()\n",
        "    d[\"median_response_time_overall\"] = x[\"response_time_duration_ms\"].median()\n",
        "    d[\"median_response_time_correct\"] = x.loc[\n",
        "        (x[\"user_response_index\"] == x[\"correct_response_index\"]),\n",
        "        \"response_time_duration_ms\",\n",
        "    ].median()\n",
        "    d[\"median_response_time_incorrect\"] = x.loc[\n",
        "        (x[\"user_response_index\"] != x[\"correct_response_index\"]),\n",
        "        \"response_time_duration_ms\",\n",
        "    ].median()\n",
        "    d[\"sd_response_time_overall\"] = x[\"response_time_duration_ms\"].std()\n",
        "    d[\"sd_response_time_correct\"] = x.loc[\n",
        "        (x[\"user_response_index\"] == x[\"correct_response_index\"]),\n",
        "        \"response_time_duration_ms\",\n",
        "    ].std()\n",
        "    d[\"sd_response_time_incorrect\"] = x.loc[\n",
        "        (x[\"user_response_index\"] != x[\"correct_response_index\"]),\n",
        "        \"response_time_duration_ms\",\n",
        "    ].std()\n",
        "    return pd.Series(\n",
        "        d,\n",
        "        index=[\n",
        "            \"flag_is_invalid_n_trials\",\n",
        "            # 'flag_is_potentially_invalid_rt',\n",
        "            \"n_trials\",\n",
        "            \"n_trials_lure\",\n",
        "            \"n_correct_trials\",\n",
        "            \"n_incorrect_trials\",\n",
        "            \"n_trials_responsetime_lt250ms\",\n",
        "            \"n_trials_responsetime_gt10000ms\",\n",
        "            \"mean_response_time_overall\",\n",
        "            \"mean_response_time_correct\",\n",
        "            \"mean_response_time_incorrect\",\n",
        "            \"median_response_time_overall\",\n",
        "            \"median_response_time_correct\",\n",
        "            \"median_response_time_incorrect\",\n",
        "            \"sd_response_time_overall\",\n",
        "            \"sd_response_time_correct\",\n",
        "            \"sd_response_time_incorrect\",\n",
        "        ],\n",
        "    )\n",
        "\n",
        "\n",
        "def summary_grid_memory(x, trials_expected=4):\n",
        "    d = {}\n",
        "    d[\"flag_is_invalid_n_trials\"] = x[\"session_uuid\"].count() != trials_expected\n",
        "    d[\"n_trials\"] = x[\"session_uuid\"].count()\n",
        "    d[\"n_perfect_trials\"] = (x[\"number_of_correct_dots\"] == 3.0).sum()\n",
        "    d[\"mean_correct_dots\"] = (x[\"number_of_correct_dots\"]).mean()\n",
        "    d[\"min_correct_dots\"] = (x[\"number_of_correct_dots\"]).min()\n",
        "    d[\"sum_correct_dots\"] = (x[\"number_of_correct_dots\"]).sum()\n",
        "    return pd.Series(\n",
        "        d,\n",
        "        index=[\n",
        "            \"flag_is_invalid_n_trials\",\n",
        "            \"n_trials\",\n",
        "            \"n_perfect_trials\",\n",
        "            \"mean_correct_dots\",\n",
        "            \"min_correct_dots\",\n",
        "            \"sum_correct_dots\",\n",
        "        ],\n",
        "    )"
      ]
    },
    {
      "cell_type": "code",
      "execution_count": 8,
      "metadata": {},
      "outputs": [],
      "source": [
        "def summarise_m2c2kit_data(df = None, activity_name=None, group_by=[\"participant_id\", \"session_uuid\", \"session_id\"], trials_expected = -999, ts_fn = None):\n",
        "    if activity_name == \"symbol-search\" or activity_name == \"symbolsearch\" or activity_name == \"symbol_search\" or activity_name == \"Symbol Search\" or activity_name == \"Symbol Match\":\n",
        "        activity_name_fn = activity_name.replace(\" \", \"_\").lower()\n",
        "        df_session_summary = df.groupby(group_by).apply(summary_symbol_search, trials_expected=trials_expected)\n",
        "        df_session_summary.reset_index().to_csv(f\"m2c2kit_scored_activity-{activity_name_fn}_{ts_fn}.csv\", index=False)\n",
        "        valid_scoring = True\n",
        "    if activity_name == \"grid-memory\" or activity_name == \"Dot Memory\" or activity_name == \"Grid Memory\":\n",
        "        activity_name_fn = activity_name.replace(\" \", \"_\").lower()\n",
        "        df_session_summary = df.groupby(group_by).apply(summary_grid_memory, trials_expected=trials_expected)\n",
        "        valid_scoring = True\n",
        "\n",
        "    if valid_scoring:\n",
        "        df_session_summary.reset_index().to_csv(f\"m2c2kit_scored_activity-{activity_name_fn}_{ts_fn}.csv\", index=False)\n",
        "        return df_session_summary\n",
        "    else:\n",
        "        print(\"Activity not supported yet. Please contact M2C2 for further coordination.\")\n",
        "        df_session_summary = None"
      ]
    },
    {
      "cell_type": "markdown",
      "metadata": {},
      "source": [
        "## Configure your data query\n",
        "\n",
        "Note: If you have more cognitive assessments than displayed here, copy the existing code for a cognitive assessment, paste, and change the cognitive assessment name (colorshapes, dotmemory).<br><br> For the next two blocks of code below, the ONLY changes you need to make is to update your study_id that was created for you.<br><br>The start_date and end_date can be changed to query specific dates. Everything else can be left as is."
      ]
    },
    {
      "cell_type": "code",
      "execution_count": 9,
      "metadata": {},
      "outputs": [],
      "source": [
        "# set query params\n",
        "study_id = \"demo\"\n",
        "start_date = \"2023-11-29\"\n",
        "end_date = \"2023-11-29\""
      ]
    },
    {
      "cell_type": "code",
      "execution_count": null,
      "metadata": {},
      "outputs": [],
      "source": [
        "# login to M2C2kit backend to get access token for querying data (expires in X minutes)\n",
        "access_token, ts_fn = get_m2c2kit_access_token()"
      ]
    },
    {
      "cell_type": "markdown",
      "metadata": {},
      "source": [
        "## Query Data"
      ]
    },
    {
      "cell_type": "code",
      "execution_count": 11,
      "metadata": {},
      "outputs": [],
      "source": [
        "# query Symbol Search activity data\n",
        "df_symbolsearch, total_symbolsearch, limit_symbolsearch = get_m2c2kit_trial_level_data(access_token=access_token, \n",
        "                                                             study_id=study_id, \n",
        "                                                             start_date=start_date, \n",
        "                                                             end_date=end_date, \n",
        "                                                             skip=0,\n",
        "                                                             activity_name=\"Symbol Search\")\n",
        "\n",
        "# query Symbol Search activity data\n",
        "df_gridmemory, total_gridmemory, limit_gridmemory = get_m2c2kit_trial_level_data(access_token=access_token, \n",
        "                                                           study_id=study_id, \n",
        "                                                           start_date=start_date, \n",
        "                                                           end_date=end_date, \n",
        "                                                           skip=0,\n",
        "                                                           activity_name=\"Grid Memory\")"
      ]
    },
    {
      "cell_type": "markdown",
      "metadata": {},
      "source": [
        "## Deduplicate Dataset\n",
        "\n",
        "As mentioned above, data duplication is expected since the M2C2kit assessments save all data every trial to minimize any data loss. Below is code for deduplicating this data:"
      ]
    },
    {
      "cell_type": "code",
      "execution_count": 12,
      "metadata": {},
      "outputs": [],
      "source": [
        "df_symbolsearch_dedup = df_symbolsearch.drop_duplicates(subset=['activity_uuid', 'session_uuid', 'trial_begin_iso8601_timestamp'])\n",
        "df_gridmemory_dedup = df_gridmemory.drop_duplicates(subset=['activity_uuid', 'session_uuid', 'trial_begin_iso8601_timestamp'])"
      ]
    },
    {
      "cell_type": "code",
      "execution_count": 13,
      "metadata": {},
      "outputs": [
        {
          "name": "stdout",
          "output_type": "stream",
          "text": [
            "Symbol Search: (12, 23) to (6, 23)\n",
            "Grid Memory: (10, 24) to (6, 24)\n"
          ]
        }
      ],
      "source": [
        "# confirm deduplication\n",
        "print(f\"Symbol Search: {df_symbolsearch.shape} to {df_symbolsearch_dedup.shape}\")\n",
        "print(f\"Grid Memory: {df_gridmemory.shape} to {df_gridmemory_dedup.shape}\")"
      ]
    },
    {
      "cell_type": "markdown",
      "metadata": {},
      "source": [
        "## Preview Data"
      ]
    },
    {
      "cell_type": "code",
      "execution_count": null,
      "metadata": {},
      "outputs": [],
      "source": [
        "# preview data\n",
        "display(df_symbolsearch_dedup.head(3))\n",
        "display(df_gridmemory_dedup.head(3))"
      ]
    },
    {
      "cell_type": "markdown",
      "metadata": {},
      "source": [
        "## Save Data"
      ]
    },
    {
      "cell_type": "code",
      "execution_count": 14,
      "metadata": {},
      "outputs": [],
      "source": [
        "# save data\n",
        "\n",
        "# with duplicates (i.e., all downloaded data)\n",
        "df_symbolsearch.to_csv(f\"m2c2kit_raw_symbolsearch_{ts_fn}.csv\")\n",
        "df_gridmemory.to_csv(f\"m2c2kit_raw_gridmemory_{ts_fn}.csv\")\n",
        "\n",
        "# without duplicates (i.e., deduplicated data)\n",
        "df_symbolsearch_dedup.to_csv(f\"m2c2kit_dedup_symbolsearch_{ts_fn}.csv\")\n",
        "df_gridmemory_dedup.to_csv(f\"m2c2kit_dedup_gridmemory_{ts_fn}.csv\")"
      ]
    },
    {
      "cell_type": "markdown",
      "metadata": {},
      "source": [
        "# Just need quick insights?\n",
        "\n",
        "If you would like a list of Unique Session IDs or a count of unique sessions by participants, use the examples below"
      ]
    },
    {
      "cell_type": "markdown",
      "metadata": {},
      "source": [
        "### Metadata Report 1: Count of unique sessions (i.e., `session_uid`)"
      ]
    },
    {
      "cell_type": "code",
      "execution_count": null,
      "metadata": {},
      "outputs": [],
      "source": [
        "session_counts = get_m2c2kit_metadata(access_token=access_token, study_id=study_id, resource=\"session-counts\")\n",
        "session_counts_df = session_counts[0]\n",
        "session_counts_df.to_csv(f\"m2c2kit_metadata_session-counts_{ts_fn}.csv\", index=False)\n",
        "display(session_counts_df)\n"
      ]
    },
    {
      "cell_type": "code",
      "execution_count": null,
      "metadata": {},
      "outputs": [],
      "source": [
        "session_counts_by_activity = get_m2c2kit_metadata(access_token=access_token, study_id=study_id, resource=\"session-counts-by-activity\")\n",
        "session_counts_by_activity_df = session_counts_by_activity[0]\n",
        "session_counts_by_activity_df.to_csv(f\"m2c2kit_metadata_session-counts-by-activity_{ts_fn}.csv\", index=False)\n",
        "display(session_counts_by_activity_df)"
      ]
    },
    {
      "cell_type": "markdown",
      "metadata": {},
      "source": [
        "### Metadata Report 2: List of unique sessions (i.e., `session_uid`)"
      ]
    },
    {
      "cell_type": "code",
      "execution_count": null,
      "metadata": {},
      "outputs": [],
      "source": [
        "unique_session_ids = get_m2c2kit_metadata(access_token=access_token, study_id=study_id, resource=\"unique-session-ids\")\n",
        "unique_session_ids_df = unique_session_ids[0]\n",
        "unique_session_ids_df.to_csv(f\"m2c2kit_metadata_unique-session-ids_{ts_fn}.csv\", index=False)\n",
        "display(unique_session_ids_df)\n"
      ]
    },
    {
      "cell_type": "markdown",
      "metadata": {},
      "source": [
        "# Ready to score your data?\n",
        "\n",
        "If you are ready to score your data, please contact us at [m2c2@psu.edu](mailto:m2c2@psu.edu)"
      ]
    },
    {
      "cell_type": "code",
      "execution_count": 15,
      "metadata": {},
      "outputs": [],
      "source": [
        "# specify expected number of trials (based on study configuration)\n",
        "trials_expected_symbolsearch = 20\n",
        "trials_expected_gridmemory = 4"
      ]
    },
    {
      "cell_type": "code",
      "execution_count": 18,
      "metadata": {},
      "outputs": [],
      "source": [
        "# note, this function writes files for you! \n",
        "df_symbolsearch_summary = summarise_m2c2kit_data(df = df_symbolsearch_dedup, activity_name=\"Symbol Search\", group_by=[\"participant_id\", \"session_uuid\", \"activity_uuid\", \"session_id\"], trials_expected = -999, ts_fn = ts_fn)\n",
        "df_gridmemory_summary = summarise_m2c2kit_data(df = df_gridmemory_dedup, activity_name=\"Grid Memory\", group_by=[\"participant_id\", \"session_uuid\", \"activity_uuid\", \"session_id\"], trials_expected = -999, ts_fn = ts_fn)"
      ]
    },
    {
      "cell_type": "code",
      "execution_count": 19,
      "metadata": {},
      "outputs": [
        {
          "data": {
            "text/html": [
              "<div>\n",
              "<style scoped>\n",
              "    .dataframe tbody tr th:only-of-type {\n",
              "        vertical-align: middle;\n",
              "    }\n",
              "\n",
              "    .dataframe tbody tr th {\n",
              "        vertical-align: top;\n",
              "    }\n",
              "\n",
              "    .dataframe thead th {\n",
              "        text-align: right;\n",
              "    }\n",
              "</style>\n",
              "<table border=\"1\" class=\"dataframe\">\n",
              "  <thead>\n",
              "    <tr style=\"text-align: right;\">\n",
              "      <th></th>\n",
              "      <th></th>\n",
              "      <th></th>\n",
              "      <th></th>\n",
              "      <th>flag_is_invalid_n_trials</th>\n",
              "      <th>n_trials</th>\n",
              "      <th>n_trials_lure</th>\n",
              "      <th>n_correct_trials</th>\n",
              "      <th>n_incorrect_trials</th>\n",
              "      <th>n_trials_responsetime_lt250ms</th>\n",
              "      <th>n_trials_responsetime_gt10000ms</th>\n",
              "      <th>mean_response_time_overall</th>\n",
              "      <th>mean_response_time_correct</th>\n",
              "      <th>mean_response_time_incorrect</th>\n",
              "      <th>median_response_time_overall</th>\n",
              "      <th>median_response_time_correct</th>\n",
              "      <th>median_response_time_incorrect</th>\n",
              "      <th>sd_response_time_overall</th>\n",
              "      <th>sd_response_time_correct</th>\n",
              "      <th>sd_response_time_incorrect</th>\n",
              "    </tr>\n",
              "    <tr>\n",
              "      <th>participant_id</th>\n",
              "      <th>session_uuid</th>\n",
              "      <th>activity_uuid</th>\n",
              "      <th>session_id</th>\n",
              "      <th></th>\n",
              "      <th></th>\n",
              "      <th></th>\n",
              "      <th></th>\n",
              "      <th></th>\n",
              "      <th></th>\n",
              "      <th></th>\n",
              "      <th></th>\n",
              "      <th></th>\n",
              "      <th></th>\n",
              "      <th></th>\n",
              "      <th></th>\n",
              "      <th></th>\n",
              "      <th></th>\n",
              "      <th></th>\n",
              "      <th></th>\n",
              "    </tr>\n",
              "  </thead>\n",
              "  <tbody>\n",
              "    <tr>\n",
              "      <th rowspan=\"2\" valign=\"top\">None</th>\n",
              "      <th>778c8fd4-a134-4747-81cf-dd34b7aa3bac</th>\n",
              "      <th>d1b3a433-9696-4249-a4a6-c4ed3128108f</th>\n",
              "      <th>None</th>\n",
              "      <td>True</td>\n",
              "      <td>3</td>\n",
              "      <td>2</td>\n",
              "      <td>1</td>\n",
              "      <td>2</td>\n",
              "      <td>2</td>\n",
              "      <td>0</td>\n",
              "      <td>189.966667</td>\n",
              "      <td>333.700000</td>\n",
              "      <td>118.1</td>\n",
              "      <td>119.3</td>\n",
              "      <td>333.7</td>\n",
              "      <td>118.1</td>\n",
              "      <td>124.482502</td>\n",
              "      <td>NaN</td>\n",
              "      <td>1.697056</td>\n",
              "    </tr>\n",
              "    <tr>\n",
              "      <th>918ff750-dffd-4932-976b-ccba72d4b543</th>\n",
              "      <th>eb3c656a-c985-4a6c-b195-0468fb259050</th>\n",
              "      <th>None</th>\n",
              "      <td>True</td>\n",
              "      <td>3</td>\n",
              "      <td>2</td>\n",
              "      <td>3</td>\n",
              "      <td>0</td>\n",
              "      <td>0</td>\n",
              "      <td>0</td>\n",
              "      <td>3109.566667</td>\n",
              "      <td>3109.566667</td>\n",
              "      <td>NaN</td>\n",
              "      <td>2430.8</td>\n",
              "      <td>2430.8</td>\n",
              "      <td>NaN</td>\n",
              "      <td>2046.969395</td>\n",
              "      <td>2046.969395</td>\n",
              "      <td>NaN</td>\n",
              "    </tr>\n",
              "  </tbody>\n",
              "</table>\n",
              "</div>"
            ],
            "text/plain": [
              "                                                                                                     flag_is_invalid_n_trials  \\\n",
              "participant_id session_uuid                         activity_uuid                        session_id                             \n",
              "None           778c8fd4-a134-4747-81cf-dd34b7aa3bac d1b3a433-9696-4249-a4a6-c4ed3128108f None                            True   \n",
              "               918ff750-dffd-4932-976b-ccba72d4b543 eb3c656a-c985-4a6c-b195-0468fb259050 None                            True   \n",
              "\n",
              "                                                                                                     n_trials  \\\n",
              "participant_id session_uuid                         activity_uuid                        session_id             \n",
              "None           778c8fd4-a134-4747-81cf-dd34b7aa3bac d1b3a433-9696-4249-a4a6-c4ed3128108f None               3   \n",
              "               918ff750-dffd-4932-976b-ccba72d4b543 eb3c656a-c985-4a6c-b195-0468fb259050 None               3   \n",
              "\n",
              "                                                                                                     n_trials_lure  \\\n",
              "participant_id session_uuid                         activity_uuid                        session_id                  \n",
              "None           778c8fd4-a134-4747-81cf-dd34b7aa3bac d1b3a433-9696-4249-a4a6-c4ed3128108f None                    2   \n",
              "               918ff750-dffd-4932-976b-ccba72d4b543 eb3c656a-c985-4a6c-b195-0468fb259050 None                    2   \n",
              "\n",
              "                                                                                                     n_correct_trials  \\\n",
              "participant_id session_uuid                         activity_uuid                        session_id                     \n",
              "None           778c8fd4-a134-4747-81cf-dd34b7aa3bac d1b3a433-9696-4249-a4a6-c4ed3128108f None                       1   \n",
              "               918ff750-dffd-4932-976b-ccba72d4b543 eb3c656a-c985-4a6c-b195-0468fb259050 None                       3   \n",
              "\n",
              "                                                                                                     n_incorrect_trials  \\\n",
              "participant_id session_uuid                         activity_uuid                        session_id                       \n",
              "None           778c8fd4-a134-4747-81cf-dd34b7aa3bac d1b3a433-9696-4249-a4a6-c4ed3128108f None                         2   \n",
              "               918ff750-dffd-4932-976b-ccba72d4b543 eb3c656a-c985-4a6c-b195-0468fb259050 None                         0   \n",
              "\n",
              "                                                                                                     n_trials_responsetime_lt250ms  \\\n",
              "participant_id session_uuid                         activity_uuid                        session_id                                  \n",
              "None           778c8fd4-a134-4747-81cf-dd34b7aa3bac d1b3a433-9696-4249-a4a6-c4ed3128108f None                                    2   \n",
              "               918ff750-dffd-4932-976b-ccba72d4b543 eb3c656a-c985-4a6c-b195-0468fb259050 None                                    0   \n",
              "\n",
              "                                                                                                     n_trials_responsetime_gt10000ms  \\\n",
              "participant_id session_uuid                         activity_uuid                        session_id                                    \n",
              "None           778c8fd4-a134-4747-81cf-dd34b7aa3bac d1b3a433-9696-4249-a4a6-c4ed3128108f None                                      0   \n",
              "               918ff750-dffd-4932-976b-ccba72d4b543 eb3c656a-c985-4a6c-b195-0468fb259050 None                                      0   \n",
              "\n",
              "                                                                                                     mean_response_time_overall  \\\n",
              "participant_id session_uuid                         activity_uuid                        session_id                               \n",
              "None           778c8fd4-a134-4747-81cf-dd34b7aa3bac d1b3a433-9696-4249-a4a6-c4ed3128108f None                        189.966667   \n",
              "               918ff750-dffd-4932-976b-ccba72d4b543 eb3c656a-c985-4a6c-b195-0468fb259050 None                       3109.566667   \n",
              "\n",
              "                                                                                                     mean_response_time_correct  \\\n",
              "participant_id session_uuid                         activity_uuid                        session_id                               \n",
              "None           778c8fd4-a134-4747-81cf-dd34b7aa3bac d1b3a433-9696-4249-a4a6-c4ed3128108f None                        333.700000   \n",
              "               918ff750-dffd-4932-976b-ccba72d4b543 eb3c656a-c985-4a6c-b195-0468fb259050 None                       3109.566667   \n",
              "\n",
              "                                                                                                     mean_response_time_incorrect  \\\n",
              "participant_id session_uuid                         activity_uuid                        session_id                                 \n",
              "None           778c8fd4-a134-4747-81cf-dd34b7aa3bac d1b3a433-9696-4249-a4a6-c4ed3128108f None                               118.1   \n",
              "               918ff750-dffd-4932-976b-ccba72d4b543 eb3c656a-c985-4a6c-b195-0468fb259050 None                                 NaN   \n",
              "\n",
              "                                                                                                     median_response_time_overall  \\\n",
              "participant_id session_uuid                         activity_uuid                        session_id                                 \n",
              "None           778c8fd4-a134-4747-81cf-dd34b7aa3bac d1b3a433-9696-4249-a4a6-c4ed3128108f None                               119.3   \n",
              "               918ff750-dffd-4932-976b-ccba72d4b543 eb3c656a-c985-4a6c-b195-0468fb259050 None                              2430.8   \n",
              "\n",
              "                                                                                                     median_response_time_correct  \\\n",
              "participant_id session_uuid                         activity_uuid                        session_id                                 \n",
              "None           778c8fd4-a134-4747-81cf-dd34b7aa3bac d1b3a433-9696-4249-a4a6-c4ed3128108f None                               333.7   \n",
              "               918ff750-dffd-4932-976b-ccba72d4b543 eb3c656a-c985-4a6c-b195-0468fb259050 None                              2430.8   \n",
              "\n",
              "                                                                                                     median_response_time_incorrect  \\\n",
              "participant_id session_uuid                         activity_uuid                        session_id                                   \n",
              "None           778c8fd4-a134-4747-81cf-dd34b7aa3bac d1b3a433-9696-4249-a4a6-c4ed3128108f None                                 118.1   \n",
              "               918ff750-dffd-4932-976b-ccba72d4b543 eb3c656a-c985-4a6c-b195-0468fb259050 None                                   NaN   \n",
              "\n",
              "                                                                                                     sd_response_time_overall  \\\n",
              "participant_id session_uuid                         activity_uuid                        session_id                             \n",
              "None           778c8fd4-a134-4747-81cf-dd34b7aa3bac d1b3a433-9696-4249-a4a6-c4ed3128108f None                      124.482502   \n",
              "               918ff750-dffd-4932-976b-ccba72d4b543 eb3c656a-c985-4a6c-b195-0468fb259050 None                     2046.969395   \n",
              "\n",
              "                                                                                                     sd_response_time_correct  \\\n",
              "participant_id session_uuid                         activity_uuid                        session_id                             \n",
              "None           778c8fd4-a134-4747-81cf-dd34b7aa3bac d1b3a433-9696-4249-a4a6-c4ed3128108f None                             NaN   \n",
              "               918ff750-dffd-4932-976b-ccba72d4b543 eb3c656a-c985-4a6c-b195-0468fb259050 None                     2046.969395   \n",
              "\n",
              "                                                                                                     sd_response_time_incorrect  \n",
              "participant_id session_uuid                         activity_uuid                        session_id                              \n",
              "None           778c8fd4-a134-4747-81cf-dd34b7aa3bac d1b3a433-9696-4249-a4a6-c4ed3128108f None                          1.697056  \n",
              "               918ff750-dffd-4932-976b-ccba72d4b543 eb3c656a-c985-4a6c-b195-0468fb259050 None                               NaN  "
            ]
          },
          "execution_count": 19,
          "metadata": {},
          "output_type": "execute_result"
        }
      ],
      "source": [
        "df_symbolsearch_summary "
      ]
    },
    {
      "cell_type": "code",
      "execution_count": 20,
      "metadata": {},
      "outputs": [
        {
          "data": {
            "text/html": [
              "<div>\n",
              "<style scoped>\n",
              "    .dataframe tbody tr th:only-of-type {\n",
              "        vertical-align: middle;\n",
              "    }\n",
              "\n",
              "    .dataframe tbody tr th {\n",
              "        vertical-align: top;\n",
              "    }\n",
              "\n",
              "    .dataframe thead th {\n",
              "        text-align: right;\n",
              "    }\n",
              "</style>\n",
              "<table border=\"1\" class=\"dataframe\">\n",
              "  <thead>\n",
              "    <tr style=\"text-align: right;\">\n",
              "      <th></th>\n",
              "      <th></th>\n",
              "      <th></th>\n",
              "      <th></th>\n",
              "      <th>flag_is_invalid_n_trials</th>\n",
              "      <th>n_trials</th>\n",
              "      <th>n_perfect_trials</th>\n",
              "      <th>mean_correct_dots</th>\n",
              "      <th>min_correct_dots</th>\n",
              "      <th>sum_correct_dots</th>\n",
              "    </tr>\n",
              "    <tr>\n",
              "      <th>participant_id</th>\n",
              "      <th>session_uuid</th>\n",
              "      <th>activity_uuid</th>\n",
              "      <th>session_id</th>\n",
              "      <th></th>\n",
              "      <th></th>\n",
              "      <th></th>\n",
              "      <th></th>\n",
              "      <th></th>\n",
              "      <th></th>\n",
              "    </tr>\n",
              "  </thead>\n",
              "  <tbody>\n",
              "    <tr>\n",
              "      <th rowspan=\"3\" valign=\"top\">None</th>\n",
              "      <th>25b31ae2-145c-4f8c-8ae0-69f7335b109a</th>\n",
              "      <th>cf4ae271-9ad0-4f20-afa8-307be36c9003</th>\n",
              "      <th>None</th>\n",
              "      <td>True</td>\n",
              "      <td>1</td>\n",
              "      <td>1</td>\n",
              "      <td>3.000000</td>\n",
              "      <td>3.0</td>\n",
              "      <td>3.0</td>\n",
              "    </tr>\n",
              "    <tr>\n",
              "      <th>27f2e8fd-6fa1-46bb-9242-c16041a91421</th>\n",
              "      <th>269c943c-4ca1-4294-8de4-46c5a3667af0</th>\n",
              "      <th>None</th>\n",
              "      <td>True</td>\n",
              "      <td>3</td>\n",
              "      <td>1</td>\n",
              "      <td>1.666667</td>\n",
              "      <td>1.0</td>\n",
              "      <td>5.0</td>\n",
              "    </tr>\n",
              "    <tr>\n",
              "      <th>f1ea804a-fe91-4256-9e79-e6132b9dc115</th>\n",
              "      <th>b47f74e7-77d0-4acb-8e29-d29031f77a2d</th>\n",
              "      <th>None</th>\n",
              "      <td>True</td>\n",
              "      <td>2</td>\n",
              "      <td>0</td>\n",
              "      <td>1.000000</td>\n",
              "      <td>1.0</td>\n",
              "      <td>1.0</td>\n",
              "    </tr>\n",
              "  </tbody>\n",
              "</table>\n",
              "</div>"
            ],
            "text/plain": [
              "                                                                                                     flag_is_invalid_n_trials  \\\n",
              "participant_id session_uuid                         activity_uuid                        session_id                             \n",
              "None           25b31ae2-145c-4f8c-8ae0-69f7335b109a cf4ae271-9ad0-4f20-afa8-307be36c9003 None                            True   \n",
              "               27f2e8fd-6fa1-46bb-9242-c16041a91421 269c943c-4ca1-4294-8de4-46c5a3667af0 None                            True   \n",
              "               f1ea804a-fe91-4256-9e79-e6132b9dc115 b47f74e7-77d0-4acb-8e29-d29031f77a2d None                            True   \n",
              "\n",
              "                                                                                                     n_trials  \\\n",
              "participant_id session_uuid                         activity_uuid                        session_id             \n",
              "None           25b31ae2-145c-4f8c-8ae0-69f7335b109a cf4ae271-9ad0-4f20-afa8-307be36c9003 None               1   \n",
              "               27f2e8fd-6fa1-46bb-9242-c16041a91421 269c943c-4ca1-4294-8de4-46c5a3667af0 None               3   \n",
              "               f1ea804a-fe91-4256-9e79-e6132b9dc115 b47f74e7-77d0-4acb-8e29-d29031f77a2d None               2   \n",
              "\n",
              "                                                                                                     n_perfect_trials  \\\n",
              "participant_id session_uuid                         activity_uuid                        session_id                     \n",
              "None           25b31ae2-145c-4f8c-8ae0-69f7335b109a cf4ae271-9ad0-4f20-afa8-307be36c9003 None                       1   \n",
              "               27f2e8fd-6fa1-46bb-9242-c16041a91421 269c943c-4ca1-4294-8de4-46c5a3667af0 None                       1   \n",
              "               f1ea804a-fe91-4256-9e79-e6132b9dc115 b47f74e7-77d0-4acb-8e29-d29031f77a2d None                       0   \n",
              "\n",
              "                                                                                                     mean_correct_dots  \\\n",
              "participant_id session_uuid                         activity_uuid                        session_id                      \n",
              "None           25b31ae2-145c-4f8c-8ae0-69f7335b109a cf4ae271-9ad0-4f20-afa8-307be36c9003 None                 3.000000   \n",
              "               27f2e8fd-6fa1-46bb-9242-c16041a91421 269c943c-4ca1-4294-8de4-46c5a3667af0 None                 1.666667   \n",
              "               f1ea804a-fe91-4256-9e79-e6132b9dc115 b47f74e7-77d0-4acb-8e29-d29031f77a2d None                 1.000000   \n",
              "\n",
              "                                                                                                     min_correct_dots  \\\n",
              "participant_id session_uuid                         activity_uuid                        session_id                     \n",
              "None           25b31ae2-145c-4f8c-8ae0-69f7335b109a cf4ae271-9ad0-4f20-afa8-307be36c9003 None                     3.0   \n",
              "               27f2e8fd-6fa1-46bb-9242-c16041a91421 269c943c-4ca1-4294-8de4-46c5a3667af0 None                     1.0   \n",
              "               f1ea804a-fe91-4256-9e79-e6132b9dc115 b47f74e7-77d0-4acb-8e29-d29031f77a2d None                     1.0   \n",
              "\n",
              "                                                                                                     sum_correct_dots  \n",
              "participant_id session_uuid                         activity_uuid                        session_id                    \n",
              "None           25b31ae2-145c-4f8c-8ae0-69f7335b109a cf4ae271-9ad0-4f20-afa8-307be36c9003 None                     3.0  \n",
              "               27f2e8fd-6fa1-46bb-9242-c16041a91421 269c943c-4ca1-4294-8de4-46c5a3667af0 None                     5.0  \n",
              "               f1ea804a-fe91-4256-9e79-e6132b9dc115 b47f74e7-77d0-4acb-8e29-d29031f77a2d None                     1.0  "
            ]
          },
          "execution_count": 20,
          "metadata": {},
          "output_type": "execute_result"
        }
      ],
      "source": [
        "df_gridmemory_summary"
      ]
    },
    {
      "cell_type": "markdown",
      "metadata": {},
      "source": [
        "# Coming soon - this code as a pip installable package\n",
        "<!-- pip install cookiecutter\n",
        "cookiecutter https://github.com/waynerv/cookiecutter-pypackage.git -->"
      ]
    }
  ],
  "metadata": {
    "colab": {
      "provenance": []
    },
    "kernelspec": {
      "display_name": "Python 3",
      "name": "python3"
    },
    "language_info": {
      "codemirror_mode": {
        "name": "ipython",
        "version": 3
      },
      "file_extension": ".py",
      "mimetype": "text/x-python",
      "name": "python",
      "nbconvert_exporter": "python",
      "pygments_lexer": "ipython3",
      "version": "3.11.4"
    }
  },
  "nbformat": 4,
  "nbformat_minor": 0
}
