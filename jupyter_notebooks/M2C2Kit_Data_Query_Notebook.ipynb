{
  "cells": [
    {
      "cell_type": "markdown",
      "metadata": {},
      "source": [
        "# Getting Started\n",
        "\n",
        "To get started with this Jupyter notebook, you will need to either:\n",
        "\n",
        "- Install [Anaconda](https://www.anaconda.com/)\n",
        "- Install [Jupyter Lab](https://jupyter.org/install)\n",
        "- Install [Visual Studio Code with the Jupyter Notebook Extension](https://code.visualstudio.com/)\n",
        "\n",
        "Once you've configured your frameowrk of choice, you will then need to install the following Python libraries (`pandas`, `requests`) by running the cell below.\n",
        "\n",
        "Thereafter, navigate to the cell below the heading `Configure your data query` and modify the username to the one you were provided by the M2C2 Team. You will be prompted for your password each time you login."
      ]
    },
    {
      "cell_type": "code",
      "execution_count": null,
      "metadata": {},
      "outputs": [],
      "source": [
        "! pip install requests\n",
        "! pip install pandas"
      ]
    },
    {
      "cell_type": "markdown",
      "metadata": {},
      "source": [
        "## Load libraries and custom functions"
      ]
    },
    {
      "cell_type": "markdown",
      "metadata": {},
      "source": [
        "### Note: DO NOT modify any of the functions below"
      ]
    },
    {
      "cell_type": "code",
      "execution_count": 1,
      "metadata": {
        "colab": {
          "base_uri": "https://localhost:8080/"
        },
        "id": "jH1QPHdxqcgz",
        "outputId": "7073efad-35e3-4ad5-d618-6ab3a3ab6aed"
      },
      "outputs": [],
      "source": [
        "import urllib.parse\n",
        "import requests\n",
        "import pandas as pd\n",
        "from getpass import getpass"
      ]
    },
    {
      "cell_type": "code",
      "execution_count": 2,
      "metadata": {},
      "outputs": [],
      "source": [
        "def get_m2c2kit_access_token(username=None, password=None):\n",
        "    # specify login endpoint URL\n",
        "    login_url = \"https://prod.m2c2kit.com/auth/token\"\n",
        "    payload = f\"=grant_type%3D&=scope%3D&=client_id%3D&=client_secret%3D&username={username}&password={password}\"\n",
        "    headers = {\n",
        "        \"accept\": \"application/json\",\n",
        "        \"Content-Type\": \"application/x-www-form-urlencoded\"\n",
        "    }\n",
        "\n",
        "    # attempt login\n",
        "    login_response = requests.request(\"POST\", login_url, data=payload, headers=headers)\n",
        "    access_token = login_response.json().get(\"access_token\")\n",
        "    return access_token"
      ]
    },
    {
      "cell_type": "code",
      "execution_count": 3,
      "metadata": {},
      "outputs": [],
      "source": [
        "def get_m2c2kit_trial_level_data(access_token=None, study_id=None, start_date=None, end_date=None, activity_name=None, skip=0):\n",
        "\n",
        "    # check if required fields present\n",
        "    if access_token is None:\n",
        "        raise ValueError(\"access_token is required\")\n",
        "    if study_id is None:\n",
        "        raise ValueError(\"study_id is required\")\n",
        "    if start_date is None:\n",
        "        raise ValueError(\"start_date is required\")\n",
        "    if end_date is None:\n",
        "        raise ValueError(\"end_date is required\")\n",
        "    if activity_name is None:\n",
        "        raise ValueError(\"activity_name is required\")\n",
        "\n",
        "    # specify query endpoint URL\n",
        "    query_url = \"https://prod.m2c2kit.com/query/\"\n",
        "\n",
        "    # specify query parameters ----\n",
        "    querystring = {\"fields\":\"study_uid,uid,session_uid,activity_name,event_type,content,metadata\",\n",
        "                \"activity_name\":activity_name,\n",
        "                \"format\":\"json\",\n",
        "                \"study_uid\":study_id,\n",
        "                \"start_date\":start_date,\n",
        "                \"end_date\":end_date,\n",
        "                \"skip\":skip,\n",
        "                \"limit\":\"1000\"}\n",
        "\n",
        "    payload = \"\"\n",
        "    headers = {\n",
        "    \"accept\": \"application/json\",\n",
        "    \"Authorization\": f\"Bearer {access_token}\"\n",
        "    }\n",
        "\n",
        "    # TODO: check for total and run with new limit and skip if reached limit ----\n",
        "    data_response = requests.request(\"GET\", query_url, data=payload, headers=headers, params=querystring)\n",
        "    data_json = data_response.json()\n",
        "    data_records = data_json.get(\"results\")\n",
        "    data_total = data_json.get(\"total\")\n",
        "    data_limit = data_json.get(\"limit\")\n",
        "    data_df = pd.DataFrame(data_records)\n",
        "\n",
        "    # iterate over the dataset to get all trials ----\n",
        "    all_trials = []\n",
        "    for index, row in data_df.iterrows():\n",
        "        json_data = row['content'].get(\"trials\", [])\n",
        "        all_trials.extend(json_data)\n",
        "\n",
        "    # convert all trials to dataframe ----\n",
        "    df_all = pd.DataFrame(all_trials)\n",
        "    return df_all, data_total, data_limit"
      ]
    },
    {
      "cell_type": "markdown",
      "metadata": {},
      "source": [
        "## Configure your data query."
      ]
    },
{
      "cell_type": "markdown",
      "metadata": {},
      "source": [
        "### Note: If you have more cognitive assessments than displayed here, copy the existing code for a cognitive assessment, paste, and change the cognitive assessment name (colorshapes, dotmemory)"
      ]
    },
    {
      "cell_type": "code",
      "execution_count": 7,
      "metadata": {},
      "outputs": [],
      "source": [
        "# specify parameters for M2C2kit backend\n",
        "# replace the backend_username with your username you created using the authorization form\n"
        "backend_username = \"[INSERT USERNAME HERE]\"\n",
        "backend_password = getpass('Enter password for M2C2kit backend...') # do not enter anything here. When you run this block, you will be prompted for a password above\n",
        "\n",
        "# login to M2C2kit backend to get access token for querying data (expires in X minutes). You do not need to make any changes to the code below\n",
        "access_token = get_m2c2kit_access_token(username=backend_username, \n",
        "                                password=backend_password)"
      ]
    },
    {
      "cell_type": "code",
      "execution_count": 10,
      "metadata": {},
      "outputs": [],
      "source": [
        "# query range of data for a given study\n",
        "# replace the study_id with the study_id that has been given to you for your project\n",
        "study_id = \"demo\"\n",
        "start_date = \"2023-10-10\"\n",
        "end_date = \"2023-10-20\"\n",
        "\n",
        "\n",
        "# query Symbol Search activity data\n",
        "df_symbolsearch, total_symbolsearch, limit_symbolsearch = get_m2c2kit_trial_level_data(access_token=access_token, \n",
        "                                                             study_id=study_id, \n",
        "                                                             start_date=start_date, \n",
        "                                                             end_date=end_date, \n",
        "                                                             skip=0,\n",
        "                                                             activity_name=\"Symbol Search\")\n",
        "\n",
        "# query Symbol Search activity data\n",
        "df_gridmemory, total_gridmemory, limit_gridmemory = get_m2c2kit_trial_level_data(access_token=access_token, \n",
        "                                                           study_id=study_id, \n",
        "                                                           start_date=start_date, \n",
        "                                                           end_date=end_date, \n",
        "                                                           skip=0,\n",
        "                                                           activity_name=\"Grid Memory\")"
      ]
    },
    {
      "cell_type": "markdown",
      "metadata": {},
      "source": [
        "## IMPORTANT Note\n",
        "Before beginning your study, please ensure that the 'user_uid' values you are receiving the dataframes above match what you'd expect from either Qualtrics or Metricwire (24 characters, alphanumeric). The data download in the next step will export to the same location of this Jupyter Notebook file"
      ]
    },
    {
      "cell_type": "code",
      "execution_count": null,
      "metadata": {},
      "outputs": [],
      "source": [
        "# save data\n",
        "import datetime\n",
        "ts_fn = datetime.datetime.now().strftime(\"%Y%m%d_%H%M%S\")\n",
        "df_symbolsearch.to_csv(f\"m2c2kit_symbolsearch_{ts_fn}.csv\")\n",
        "df_gridmemory.to_csv(f\"m2c2kit_gridmemory_{ts_fn}.csv\")"
      ]
    },
    {
      "cell_type": "code",
      "execution_count": 11,
      "metadata": {},
      "outputs": [
        {
          "data": {
            "text/html": [
              "<div>\n",
              "<style scoped>\n",
              "    .dataframe tbody tr th:only-of-type {\n",
              "        vertical-align: middle;\n",
              "    }\n",
              "\n",
              "    .dataframe tbody tr th {\n",
              "        vertical-align: top;\n",
              "    }\n",
              "\n",
              "    .dataframe thead th {\n",
              "        text-align: right;\n",
              "    }\n",
              "</style>\n",
              "<table border=\"1\" class=\"dataframe\">\n",
              "  <thead>\n",
              "    <tr style=\"text-align: right;\">\n",
              "      <th></th>\n",
              "      <th>document_uuid</th>\n",
              "      <th>session_uuid</th>\n",
              "      <th>activity_uuid</th>\n",
              "      <th>activity_id</th>\n",
              "      <th>activity_version</th>\n",
              "      <th>device_timezone</th>\n",
              "      <th>device_timezone_offset_minutes</th>\n",
              "      <th>activity_begin_iso8601_timestamp</th>\n",
              "      <th>trial_begin_iso8601_timestamp</th>\n",
              "      <th>trial_index</th>\n",
              "      <th>...</th>\n",
              "      <th>user_response_index</th>\n",
              "      <th>correct_response_index</th>\n",
              "      <th>quit_button_pressed</th>\n",
              "      <th>device_metadata</th>\n",
              "      <th>study_id</th>\n",
              "      <th>session_id</th>\n",
              "      <th>participant_id</th>\n",
              "      <th>api_key</th>\n",
              "      <th>group</th>\n",
              "      <th>wave</th>\n",
              "    </tr>\n",
              "  </thead>\n",
              "  <tbody>\n",
              "    <tr>\n",
              "      <th>0</th>\n",
              "      <td>dcdceb56-1b84-40e8-8827-a6c109fb37b6</td>\n",
              "      <td>d50e6f56-aec2-4d7f-b475-ff29038b9815</td>\n",
              "      <td>ab431238-659c-41cd-a49d-7700cd95ca76</td>\n",
              "      <td>symbol-search</td>\n",
              "      <td>0.8.4</td>\n",
              "      <td>America/New_York</td>\n",
              "      <td>240</td>\n",
              "      <td>2023-10-11T20:21:15.603Z</td>\n",
              "      <td>2023-10-11T20:21:21.830Z</td>\n",
              "      <td>0</td>\n",
              "      <td>...</td>\n",
              "      <td>1</td>\n",
              "      <td>0</td>\n",
              "      <td>False</td>\n",
              "      <td>{'userAgent': 'Mozilla/5.0 (iPhone; CPU iPhone...</td>\n",
              "      <td>demo</td>\n",
              "      <td>459ce6d8-065d-46a4-a0ad-1c36b20c303c</td>\n",
              "      <td>6304d22ada78beb5daac0fc6</td>\n",
              "      <td>demo</td>\n",
              "      <td>None</td>\n",
              "      <td>None</td>\n",
              "    </tr>\n",
              "    <tr>\n",
              "      <th>1</th>\n",
              "      <td>dcdceb56-1b84-40e8-8827-a6c109fb37b6</td>\n",
              "      <td>d50e6f56-aec2-4d7f-b475-ff29038b9815</td>\n",
              "      <td>ab431238-659c-41cd-a49d-7700cd95ca76</td>\n",
              "      <td>symbol-search</td>\n",
              "      <td>0.8.4</td>\n",
              "      <td>America/New_York</td>\n",
              "      <td>240</td>\n",
              "      <td>2023-10-11T20:21:15.603Z</td>\n",
              "      <td>2023-10-11T20:21:21.830Z</td>\n",
              "      <td>0</td>\n",
              "      <td>...</td>\n",
              "      <td>1</td>\n",
              "      <td>0</td>\n",
              "      <td>False</td>\n",
              "      <td>{'userAgent': 'Mozilla/5.0 (iPhone; CPU iPhone...</td>\n",
              "      <td>demo</td>\n",
              "      <td>459ce6d8-065d-46a4-a0ad-1c36b20c303c</td>\n",
              "      <td>6304d22ada78beb5daac0fc6</td>\n",
              "      <td>demo</td>\n",
              "      <td>None</td>\n",
              "      <td>None</td>\n",
              "    </tr>\n",
              "    <tr>\n",
              "      <th>2</th>\n",
              "      <td>1722fbb3-9426-4c40-bdfe-df943c4d2327</td>\n",
              "      <td>d50e6f56-aec2-4d7f-b475-ff29038b9815</td>\n",
              "      <td>ab431238-659c-41cd-a49d-7700cd95ca76</td>\n",
              "      <td>symbol-search</td>\n",
              "      <td>0.8.4</td>\n",
              "      <td>America/New_York</td>\n",
              "      <td>240</td>\n",
              "      <td>2023-10-11T20:21:15.603Z</td>\n",
              "      <td>2023-10-11T20:21:22.473Z</td>\n",
              "      <td>1</td>\n",
              "      <td>...</td>\n",
              "      <td>1</td>\n",
              "      <td>1</td>\n",
              "      <td>False</td>\n",
              "      <td>{'userAgent': 'Mozilla/5.0 (iPhone; CPU iPhone...</td>\n",
              "      <td>demo</td>\n",
              "      <td>459ce6d8-065d-46a4-a0ad-1c36b20c303c</td>\n",
              "      <td>6304d22ada78beb5daac0fc6</td>\n",
              "      <td>demo</td>\n",
              "      <td>None</td>\n",
              "      <td>None</td>\n",
              "    </tr>\n",
              "  </tbody>\n",
              "</table>\n",
              "<p>3 rows × 23 columns</p>\n",
              "</div>"
            ],
            "text/plain": [
              "                          document_uuid                          session_uuid  \\\n",
              "0  dcdceb56-1b84-40e8-8827-a6c109fb37b6  d50e6f56-aec2-4d7f-b475-ff29038b9815   \n",
              "1  dcdceb56-1b84-40e8-8827-a6c109fb37b6  d50e6f56-aec2-4d7f-b475-ff29038b9815   \n",
              "2  1722fbb3-9426-4c40-bdfe-df943c4d2327  d50e6f56-aec2-4d7f-b475-ff29038b9815   \n",
              "\n",
              "                          activity_uuid    activity_id activity_version  \\\n",
              "0  ab431238-659c-41cd-a49d-7700cd95ca76  symbol-search            0.8.4   \n",
              "1  ab431238-659c-41cd-a49d-7700cd95ca76  symbol-search            0.8.4   \n",
              "2  ab431238-659c-41cd-a49d-7700cd95ca76  symbol-search            0.8.4   \n",
              "\n",
              "    device_timezone  device_timezone_offset_minutes  \\\n",
              "0  America/New_York                             240   \n",
              "1  America/New_York                             240   \n",
              "2  America/New_York                             240   \n",
              "\n",
              "  activity_begin_iso8601_timestamp trial_begin_iso8601_timestamp  trial_index  \\\n",
              "0         2023-10-11T20:21:15.603Z      2023-10-11T20:21:21.830Z            0   \n",
              "1         2023-10-11T20:21:15.603Z      2023-10-11T20:21:21.830Z            0   \n",
              "2         2023-10-11T20:21:15.603Z      2023-10-11T20:21:22.473Z            1   \n",
              "\n",
              "   ... user_response_index correct_response_index  quit_button_pressed  \\\n",
              "0  ...                   1                      0                False   \n",
              "1  ...                   1                      0                False   \n",
              "2  ...                   1                      1                False   \n",
              "\n",
              "                                     device_metadata  study_id  \\\n",
              "0  {'userAgent': 'Mozilla/5.0 (iPhone; CPU iPhone...      demo   \n",
              "1  {'userAgent': 'Mozilla/5.0 (iPhone; CPU iPhone...      demo   \n",
              "2  {'userAgent': 'Mozilla/5.0 (iPhone; CPU iPhone...      demo   \n",
              "\n",
              "                             session_id            participant_id api_key  \\\n",
              "0  459ce6d8-065d-46a4-a0ad-1c36b20c303c  6304d22ada78beb5daac0fc6    demo   \n",
              "1  459ce6d8-065d-46a4-a0ad-1c36b20c303c  6304d22ada78beb5daac0fc6    demo   \n",
              "2  459ce6d8-065d-46a4-a0ad-1c36b20c303c  6304d22ada78beb5daac0fc6    demo   \n",
              "\n",
              "  group  wave  \n",
              "0  None  None  \n",
              "1  None  None  \n",
              "2  None  None  \n",
              "\n",
              "[3 rows x 23 columns]"
            ]
          },
          "metadata": {},
          "output_type": "display_data"
        }
      ],
      "source": [
        "display(df_symbolsearch.head(3))"
      ]
    },
    {
      "cell_type": "code",
      "execution_count": 12,
      "metadata": {},
      "outputs": [
        {
          "data": {
            "text/html": [
              "<div>\n",
              "<style scoped>\n",
              "    .dataframe tbody tr th:only-of-type {\n",
              "        vertical-align: middle;\n",
              "    }\n",
              "\n",
              "    .dataframe tbody tr th {\n",
              "        vertical-align: top;\n",
              "    }\n",
              "\n",
              "    .dataframe thead th {\n",
              "        text-align: right;\n",
              "    }\n",
              "</style>\n",
              "<table border=\"1\" class=\"dataframe\">\n",
              "  <thead>\n",
              "    <tr style=\"text-align: right;\">\n",
              "      <th></th>\n",
              "    </tr>\n",
              "  </thead>\n",
              "  <tbody>\n",
              "  </tbody>\n",
              "</table>\n",
              "</div>"
            ],
            "text/plain": [
              "Empty DataFrame\n",
              "Columns: []\n",
              "Index: []"
            ]
          },
          "metadata": {},
          "output_type": "display_data"
        }
      ],
      "source": [
        "display(df_gridmemory.head(3))"
      ]
    },
    {
      "cell_type": "markdown",
      "metadata": {},
      "source": [
        "# Coming soon - this code as a pip installable package\n",
        "<!-- pip install cookiecutter\n",
        "cookiecutter https://github.com/waynerv/cookiecutter-pypackage.git -->"
      ]
    }
  ],
  "metadata": {
    "colab": {
      "provenance": []
    },
    "kernelspec": {
      "display_name": "Python 3",
      "name": "python3"
    },
    "language_info": {
      "codemirror_mode": {
        "name": "ipython",
        "version": 3
      },
      "file_extension": ".py",
      "mimetype": "text/x-python",
      "name": "python",
      "nbconvert_exporter": "python",
      "pygments_lexer": "ipython3",
      "version": "3.11.4"
    }
  },
  "nbformat": 4,
  "nbformat_minor": 0
}
